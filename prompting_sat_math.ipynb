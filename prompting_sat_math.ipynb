{
 "cells": [
  {
   "cell_type": "code",
   "execution_count": 30,
   "metadata": {},
   "outputs": [],
   "source": [
    "import pandas as pd\n",
    "from datasets import load_dataset, DatasetDict, Dataset\n",
    "\n",
    "sat_math_dict = load_dataset(\"knazarali3/group2_processed_sat_math_cot\")\n",
    "train_dataset = sat_math_dict[\"train\"]\n",
    "test_dataset = sat_math_dict[\"test\"]\n",
    "test_dataset_df = pd.DataFrame(test_dataset)\n",
    "test_dataset_df[\"row_index\"]  = test_dataset_df.index"
   ]
  },
  {
   "cell_type": "code",
   "execution_count": 2,
   "metadata": {},
   "outputs": [
    {
     "data": {
      "text/html": [
       "<div>\n",
       "<style scoped>\n",
       "    .dataframe tbody tr th:only-of-type {\n",
       "        vertical-align: middle;\n",
       "    }\n",
       "\n",
       "    .dataframe tbody tr th {\n",
       "        vertical-align: top;\n",
       "    }\n",
       "\n",
       "    .dataframe thead th {\n",
       "        text-align: right;\n",
       "    }\n",
       "</style>\n",
       "<table border=\"1\" class=\"dataframe\">\n",
       "  <thead>\n",
       "    <tr style=\"text-align: right;\">\n",
       "      <th></th>\n",
       "      <th>Unnamed: 0</th>\n",
       "      <th>Question Id</th>\n",
       "      <th>llama_is_correct</th>\n",
       "      <th>Llama Model Solution Numbers</th>\n",
       "      <th>llema_is_correct</th>\n",
       "      <th>llema_solution</th>\n",
       "      <th>qwen_is_correct</th>\n",
       "      <th>Qwen Model Solution Numbers</th>\n",
       "      <th>mistral_is_correct</th>\n",
       "      <th>Mistral Model Solution Numbers</th>\n",
       "      <th>all_incorrect</th>\n",
       "    </tr>\n",
       "  </thead>\n",
       "  <tbody>\n",
       "    <tr>\n",
       "      <th>0</th>\n",
       "      <td>0</td>\n",
       "      <td>27493</td>\n",
       "      <td>False</td>\n",
       "      <td>[711]</td>\n",
       "      <td>False</td>\n",
       "      <td>NaN</td>\n",
       "      <td>False</td>\n",
       "      <td>[561]</td>\n",
       "      <td>False</td>\n",
       "      <td>[5958]</td>\n",
       "      <td>True</td>\n",
       "    </tr>\n",
       "    <tr>\n",
       "      <th>1</th>\n",
       "      <td>3</td>\n",
       "      <td>22729</td>\n",
       "      <td>False</td>\n",
       "      <td>[11]</td>\n",
       "      <td>False</td>\n",
       "      <td>NaN</td>\n",
       "      <td>False</td>\n",
       "      <td>[12]</td>\n",
       "      <td>False</td>\n",
       "      <td>[801]</td>\n",
       "      <td>True</td>\n",
       "    </tr>\n",
       "    <tr>\n",
       "      <th>2</th>\n",
       "      <td>5</td>\n",
       "      <td>9552</td>\n",
       "      <td>False</td>\n",
       "      <td>[105, 15]</td>\n",
       "      <td>False</td>\n",
       "      <td>NaN</td>\n",
       "      <td>False</td>\n",
       "      <td>[1575]</td>\n",
       "      <td>False</td>\n",
       "      <td>[]</td>\n",
       "      <td>True</td>\n",
       "    </tr>\n",
       "    <tr>\n",
       "      <th>3</th>\n",
       "      <td>10</td>\n",
       "      <td>19577</td>\n",
       "      <td>False</td>\n",
       "      <td>[9444]</td>\n",
       "      <td>False</td>\n",
       "      <td>25.0</td>\n",
       "      <td>False</td>\n",
       "      <td>[95, 95]</td>\n",
       "      <td>False</td>\n",
       "      <td>[95]</td>\n",
       "      <td>True</td>\n",
       "    </tr>\n",
       "    <tr>\n",
       "      <th>4</th>\n",
       "      <td>12</td>\n",
       "      <td>26373</td>\n",
       "      <td>False</td>\n",
       "      <td>[30, 60]</td>\n",
       "      <td>False</td>\n",
       "      <td>4.0</td>\n",
       "      <td>False</td>\n",
       "      <td>[3]</td>\n",
       "      <td>False</td>\n",
       "      <td>[3]</td>\n",
       "      <td>True</td>\n",
       "    </tr>\n",
       "    <tr>\n",
       "      <th>...</th>\n",
       "      <td>...</td>\n",
       "      <td>...</td>\n",
       "      <td>...</td>\n",
       "      <td>...</td>\n",
       "      <td>...</td>\n",
       "      <td>...</td>\n",
       "      <td>...</td>\n",
       "      <td>...</td>\n",
       "      <td>...</td>\n",
       "      <td>...</td>\n",
       "      <td>...</td>\n",
       "    </tr>\n",
       "    <tr>\n",
       "      <th>1420</th>\n",
       "      <td>6148</td>\n",
       "      <td>3246</td>\n",
       "      <td>False</td>\n",
       "      <td>[4]</td>\n",
       "      <td>False</td>\n",
       "      <td>11.0</td>\n",
       "      <td>False</td>\n",
       "      <td>[3]</td>\n",
       "      <td>False</td>\n",
       "      <td>[6]</td>\n",
       "      <td>True</td>\n",
       "    </tr>\n",
       "    <tr>\n",
       "      <th>1421</th>\n",
       "      <td>6150</td>\n",
       "      <td>24214</td>\n",
       "      <td>False</td>\n",
       "      <td>[2, 1, 31]</td>\n",
       "      <td>False</td>\n",
       "      <td>NaN</td>\n",
       "      <td>False</td>\n",
       "      <td>[31]</td>\n",
       "      <td>False</td>\n",
       "      <td>[4]</td>\n",
       "      <td>True</td>\n",
       "    </tr>\n",
       "    <tr>\n",
       "      <th>1422</th>\n",
       "      <td>6173</td>\n",
       "      <td>24952</td>\n",
       "      <td>False</td>\n",
       "      <td>[32]</td>\n",
       "      <td>False</td>\n",
       "      <td>NaN</td>\n",
       "      <td>False</td>\n",
       "      <td>[51]</td>\n",
       "      <td>False</td>\n",
       "      <td>[41]</td>\n",
       "      <td>True</td>\n",
       "    </tr>\n",
       "    <tr>\n",
       "      <th>1423</th>\n",
       "      <td>6187</td>\n",
       "      <td>16329</td>\n",
       "      <td>False</td>\n",
       "      <td>[3, 7]</td>\n",
       "      <td>False</td>\n",
       "      <td>NaN</td>\n",
       "      <td>False</td>\n",
       "      <td>[1]</td>\n",
       "      <td>False</td>\n",
       "      <td>[1]</td>\n",
       "      <td>True</td>\n",
       "    </tr>\n",
       "    <tr>\n",
       "      <th>1424</th>\n",
       "      <td>6189</td>\n",
       "      <td>24714</td>\n",
       "      <td>False</td>\n",
       "      <td>[110]</td>\n",
       "      <td>False</td>\n",
       "      <td>2.0</td>\n",
       "      <td>False</td>\n",
       "      <td>[179]</td>\n",
       "      <td>False</td>\n",
       "      <td>[21]</td>\n",
       "      <td>True</td>\n",
       "    </tr>\n",
       "  </tbody>\n",
       "</table>\n",
       "<p>1425 rows × 11 columns</p>\n",
       "</div>"
      ],
      "text/plain": [
       "      Unnamed: 0 Question Id  llama_is_correct Llama Model Solution Numbers  \\\n",
       "0              0       27493             False                        [711]   \n",
       "1              3       22729             False                         [11]   \n",
       "2              5        9552             False                    [105, 15]   \n",
       "3             10       19577             False                       [9444]   \n",
       "4             12       26373             False                     [30, 60]   \n",
       "...          ...         ...               ...                          ...   \n",
       "1420        6148        3246             False                          [4]   \n",
       "1421        6150       24214             False                   [2, 1, 31]   \n",
       "1422        6173       24952             False                         [32]   \n",
       "1423        6187       16329             False                       [3, 7]   \n",
       "1424        6189       24714             False                        [110]   \n",
       "\n",
       "      llema_is_correct  llema_solution  qwen_is_correct  \\\n",
       "0                False             NaN            False   \n",
       "1                False             NaN            False   \n",
       "2                False             NaN            False   \n",
       "3                False            25.0            False   \n",
       "4                False             4.0            False   \n",
       "...                ...             ...              ...   \n",
       "1420             False            11.0            False   \n",
       "1421             False             NaN            False   \n",
       "1422             False             NaN            False   \n",
       "1423             False             NaN            False   \n",
       "1424             False             2.0            False   \n",
       "\n",
       "     Qwen Model Solution Numbers  mistral_is_correct  \\\n",
       "0                          [561]               False   \n",
       "1                           [12]               False   \n",
       "2                         [1575]               False   \n",
       "3                       [95, 95]               False   \n",
       "4                            [3]               False   \n",
       "...                          ...                 ...   \n",
       "1420                         [3]               False   \n",
       "1421                        [31]               False   \n",
       "1422                        [51]               False   \n",
       "1423                         [1]               False   \n",
       "1424                       [179]               False   \n",
       "\n",
       "     Mistral Model Solution Numbers  all_incorrect  \n",
       "0                            [5958]           True  \n",
       "1                             [801]           True  \n",
       "2                                []           True  \n",
       "3                              [95]           True  \n",
       "4                               [3]           True  \n",
       "...                             ...            ...  \n",
       "1420                            [6]           True  \n",
       "1421                            [4]           True  \n",
       "1422                           [41]           True  \n",
       "1423                            [1]           True  \n",
       "1424                           [21]           True  \n",
       "\n",
       "[1425 rows x 11 columns]"
      ]
     },
     "execution_count": 2,
     "metadata": {},
     "output_type": "execute_result"
    }
   ],
   "source": [
    "all_models_questions_got_wrong_sat_math = pd.read_csv(\"all_models_questions_got_wrong_sat_math.csv\")\n",
    "all_models_questions_got_wrong_sat_math"
   ]
  },
  {
   "cell_type": "code",
   "execution_count": 31,
   "metadata": {},
   "outputs": [],
   "source": [
    "test_dataset_df[test_dataset_df[\"id\"] == \"27493\"]\n",
    "\n",
    "## llema\n",
    "with open(\"inference_sat_math_results/llemma_math_sat_answers.txt\", \"r\") as file:\n",
    "    data = [eval(line.strip()) for line in file]\n",
    "llema = pd.DataFrame(data)\n",
    "\n",
    "## llama\n",
    "llama = pd.read_csv(\"inference_sat_math_results/the_inference_llama3_sat_math.csv\")\n",
    "\n",
    "## qwen\n",
    "qwen = pd.read_csv(\"inference_sat_math_results/inference_QWEN_sat_math.csv\")\n",
    "qwen = qwen.merge(test_dataset_df, left_on='row_index', right_on='row_index')\n",
    "\n",
    "## mistral\n",
    "mistral = pd.read_csv(\"inference_sat_math_results/Mistral_Inference_SAT_Dataset.csv\")\n"
   ]
  },
  {
   "cell_type": "code",
   "execution_count": 16,
   "metadata": {},
   "outputs": [
    {
     "data": {
      "text/plain": [
       "'There were 50 people there.'"
      ]
     },
     "execution_count": 16,
     "metadata": {},
     "output_type": "execute_result"
    }
   ],
   "source": [
    "test_dataset_df[test_dataset_df[\"id\"]==\"27493\"][\"answer\"][0]"
   ]
  },
  {
   "cell_type": "code",
   "execution_count": 20,
   "metadata": {},
   "outputs": [
    {
     "data": {
      "text/plain": [
       "['Let $n$ be the number of people at the movie. Then, the cost of food is $3n$, the cost of equipment is $2(1200+3n)$, and the total cost is $1200+3n+2(1200+3n)=5400+7n$. The cost of the movie is $10,000$, and the profit is $5950$, so the total revenue is $10,000+5950=16,950$. Therefore, the total cost is']"
      ]
     },
     "execution_count": 20,
     "metadata": {},
     "output_type": "execute_result"
    }
   ],
   "source": [
    "list(llema[llema[\"Question Id\"] == \"27493\"][\"Generated Answer\"])"
   ]
  },
  {
   "cell_type": "code",
   "execution_count": 18,
   "metadata": {},
   "outputs": [
    {
     "data": {
      "text/plain": [
       "'There were 711 people who got food.'"
      ]
     },
     "execution_count": 18,
     "metadata": {},
     "output_type": "execute_result"
    }
   ],
   "source": [
    "llama[llama[\"ID\"] == \"27493\"][\"Run_1\"][0]"
   ]
  },
  {
   "cell_type": "code",
   "execution_count": 35,
   "metadata": {},
   "outputs": [
    {
     "data": {
      "text/plain": [
       "'561'"
      ]
     },
     "execution_count": 35,
     "metadata": {},
     "output_type": "execute_result"
    }
   ],
   "source": [
    "qwen[qwen[\"id\"] == \"27493\"][\"Run_1\"][0]"
   ]
  },
  {
   "cell_type": "code",
   "execution_count": null,
   "metadata": {},
   "outputs": [],
   "source": [
    "output_dir = \"mrush30/cs6220-llemma_both\"\n",
    "peft_model = AutoPeftModelForCausalLM.from_pretrained(\n",
    "  output_dir,\n",
    "  device_map=\"auto\",\n",
    "  torch_dtype=torch.float16\n",
    ")\n",
    "tokenizer = AutoTokenizer.from_pretrained(output_dir)\n",
    "pipe = pipeline(\"text-generation\", model=peft_model, tokenizer=tokenizer)"
   ]
  }
 ],
 "metadata": {
  "kernelspec": {
   "display_name": "310",
   "language": "python",
   "name": "python3"
  },
  "language_info": {
   "codemirror_mode": {
    "name": "ipython",
    "version": 3
   },
   "file_extension": ".py",
   "mimetype": "text/x-python",
   "name": "python",
   "nbconvert_exporter": "python",
   "pygments_lexer": "ipython3",
   "version": "3.10.15"
  },
  "orig_nbformat": 4
 },
 "nbformat": 4,
 "nbformat_minor": 2
}
